{
  "nbformat": 4,
  "nbformat_minor": 0,
  "metadata": {
    "colab": {
      "provenance": [],
      "authorship_tag": "ABX9TyO9zfGrvBeLWVeg42Bzbk2d",
      "include_colab_link": true
    },
    "kernelspec": {
      "name": "python3",
      "display_name": "Python 3"
    },
    "language_info": {
      "name": "python"
    }
  },
  "cells": [
    {
      "cell_type": "markdown",
      "metadata": {
        "id": "view-in-github",
        "colab_type": "text"
      },
      "source": [
        "<a href=\"https://colab.research.google.com/github/bellapodo1/uav_workshop_uploads/blob/main/MyFirst_ColabBook.ipynb\" target=\"_parent\"><img src=\"https://colab.research.google.com/assets/colab-badge.svg\" alt=\"Open In Colab\"/></a>"
      ]
    },
    {
      "cell_type": "code",
      "execution_count": null,
      "metadata": {
        "id": "JIX2YzCaWMD3"
      },
      "outputs": [],
      "source": [
        "## Below is a sample program "
      ]
    },
    {
      "cell_type": "code",
      "source": [
        "print('Hello CNUians & Hanbatians')\n"
      ],
      "metadata": {
        "colab": {
          "base_uri": "https://localhost:8080/"
        },
        "id": "RiQDhjmHWTno",
        "outputId": "323d9827-3b68-4df5-f3db-8d2c583f09be"
      },
      "execution_count": 1,
      "outputs": [
        {
          "output_type": "stream",
          "name": "stdout",
          "text": [
            "Hello CNUians & Hanbatians\n"
          ]
        }
      ]
    },
    {
      "cell_type": "markdown",
      "source": [
        "This is how a command looks like in colab"
      ],
      "metadata": {
        "id": "RzmoiBcBWlXq"
      }
    },
    {
      "cell_type": "code",
      "source": [
        "import numpy as np"
      ],
      "metadata": {
        "id": "6XLTW-9tWs1l"
      },
      "execution_count": 5,
      "outputs": []
    }
  ]
}